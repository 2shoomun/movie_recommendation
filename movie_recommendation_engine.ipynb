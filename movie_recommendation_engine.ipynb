{
  "cells": [
    {
      "cell_type": "code",
      "execution_count": null,
      "id": "45e5f193-0876-4cd1-8902-b5c4705bb2c7",
      "metadata": {
        "id": "45e5f193-0876-4cd1-8902-b5c4705bb2c7"
      },
      "outputs": [],
      "source": [
        "# Import TensorFlow and hub\n",
        "import tensorflow as tf\n",
        "import tensorflow_hub as hub\n",
        "\n",
        "# Plotting\n",
        "import matplotlib.pyplot as plt\n",
        "\n",
        "# some important packages\n",
        "import os\n",
        "import re\n",
        "import numpy as np\n",
        "import pandas as pd\n",
        "\n",
        "# scikit-learn\n",
        "from sklearn.metrics.pairwise import cosine_similarity\n",
        "from sklearn.neighbors import NearestNeighbors\n",
        "from sklearn.decomposition import PCA"
      ]
    },
    {
      "cell_type": "code",
      "execution_count": null,
      "id": "35e09cc1-937d-46ad-9b9f-666751c5be4a",
      "metadata": {
        "colab": {
          "base_uri": "https://localhost:8080/"
        },
        "id": "35e09cc1-937d-46ad-9b9f-666751c5be4a",
        "outputId": "24927494-dc4f-4976-e4cf-4c969af0e8e6"
      },
      "outputs": [
        {
          "output_type": "stream",
          "name": "stdout",
          "text": [
            "Model Loaded\n"
          ]
        }
      ],
      "source": [
        "model_url = \"https://tfhub.dev/google/universal-sentence-encoder/4\"\n",
        "model = hub.load(model_url)\n",
        "print('Model Loaded')"
      ]
    },
    {
      "cell_type": "code",
      "execution_count": null,
      "id": "c9fe6390-5235-4eee-a3e2-42e8387c01f1",
      "metadata": {
        "id": "c9fe6390-5235-4eee-a3e2-42e8387c01f1"
      },
      "outputs": [],
      "source": [
        "def embed(texts):\n",
        "    return model(texts)"
      ]
    },
    {
      "cell_type": "code",
      "execution_count": null,
      "id": "8a309bed-7ef9-4050-be73-334d18e6ac57",
      "metadata": {
        "colab": {
          "base_uri": "https://localhost:8080/"
        },
        "id": "8a309bed-7ef9-4050-be73-334d18e6ac57",
        "outputId": "cc4a8f7d-2d6a-45d9-d334-a1ecb0cd404c"
      },
      "outputs": [
        {
          "output_type": "execute_result",
          "data": {
            "text/plain": [
              "<tf.Tensor: shape=(1, 512), dtype=float32, numpy=\n",
              "array([[-0.01021698,  0.02004582, -0.029147  ,  0.02814079, -0.00280009,\n",
              "         0.02569702, -0.00703187, -0.05785554,  0.03656912, -0.00328073,\n",
              "         0.03003226, -0.03306612, -0.05341204, -0.00698177, -0.00622787,\n",
              "        -0.04693255,  0.00986358,  0.00875367,  0.01748423, -0.04025778,\n",
              "         0.05612843, -0.10353817, -0.0308422 ,  0.02135823,  0.04756404,\n",
              "        -0.03124373, -0.02262311, -0.0316695 , -0.07005249,  0.1036093 ,\n",
              "         0.02222788,  0.04812392, -0.01737883, -0.03663833, -0.04519913,\n",
              "         0.03070299,  0.03820516,  0.00651304,  0.00808052, -0.03337709,\n",
              "         0.06740414,  0.01266719, -0.10331753,  0.0223145 , -0.01623266,\n",
              "         0.04148112,  0.03672175,  0.05799403, -0.02557846,  0.05870349,\n",
              "         0.05456274, -0.06801946, -0.05629852, -0.02376717,  0.02054669,\n",
              "         0.01332096, -0.01580293, -0.0057278 , -0.05717656,  0.02857763,\n",
              "        -0.04156924, -0.03097357,  0.03145891,  0.04120083, -0.03507855,\n",
              "         0.0574908 ,  0.01204736,  0.00841879,  0.0708954 , -0.06168469,\n",
              "         0.0388687 ,  0.05596533,  0.03046321, -0.00098726,  0.02873614,\n",
              "         0.01378706, -0.0023411 , -0.05936276,  0.0195439 ,  0.08597699,\n",
              "        -0.036073  ,  0.03003533, -0.00254463,  0.03151368,  0.01727325,\n",
              "         0.0340749 ,  0.0448906 , -0.05007851, -0.09550278, -0.00787862,\n",
              "        -0.01921598, -0.01645211, -0.00416217,  0.06541029,  0.10352003,\n",
              "        -0.00710902,  0.00230301, -0.05795967,  0.10208812,  0.09288368,\n",
              "         0.00041959, -0.00356385,  0.06066449, -0.00480918, -0.00796027,\n",
              "        -0.01490845, -0.0267405 ,  0.0144218 , -0.01316334,  0.02627744,\n",
              "         0.02600905,  0.01599461,  0.06023921, -0.03508966, -0.05483667,\n",
              "         0.06815614, -0.01573499, -0.03920961,  0.02490565,  0.00675566,\n",
              "        -0.00924646,  0.01926042, -0.02061402, -0.03038257,  0.04679779,\n",
              "        -0.06332418,  0.00457076, -0.10361227,  0.03589603,  0.10136608,\n",
              "        -0.00353176, -0.02267386,  0.03494691, -0.07047806,  0.04090827,\n",
              "        -0.07217832, -0.02274593, -0.02970703, -0.09900135, -0.02246103,\n",
              "         0.0381652 , -0.03669461,  0.03938401,  0.07372652,  0.00191625,\n",
              "         0.03966501,  0.00256328,  0.005252  , -0.02443522,  0.00500128,\n",
              "         0.04423816,  0.01672491, -0.09034003, -0.03581538,  0.02354927,\n",
              "         0.06702887,  0.0794303 , -0.04601407,  0.06941502, -0.02795179,\n",
              "        -0.06468108,  0.02097223,  0.06949409,  0.06636868,  0.00437775,\n",
              "         0.02190955, -0.08303323, -0.02614678,  0.0273084 ,  0.00054228,\n",
              "         0.00954254,  0.02081874, -0.02436741, -0.02232961, -0.02870441,\n",
              "         0.06062095, -0.04030216,  0.05966198,  0.0181776 , -0.06986293,\n",
              "        -0.00424791,  0.0724033 , -0.02562459, -0.03351261,  0.02526786,\n",
              "         0.0092099 ,  0.02585372,  0.02313024,  0.09471956,  0.02898929,\n",
              "        -0.04991846, -0.01392342,  0.03186967, -0.06547265,  0.02143978,\n",
              "        -0.02557325,  0.02986348, -0.00039868,  0.00773862,  0.00635252,\n",
              "         0.00858394, -0.04141047, -0.02632049, -0.02530625,  0.06214971,\n",
              "        -0.00759763,  0.05342523,  0.0093516 , -0.03098679,  0.00257935,\n",
              "        -0.0798493 ,  0.00181058, -0.07505548, -0.02119113,  0.08627518,\n",
              "        -0.01553307, -0.00331182, -0.04591439,  0.03140101, -0.03709937,\n",
              "         0.00670433, -0.05251154, -0.03346301,  0.04617488, -0.0960288 ,\n",
              "         0.0332155 , -0.08603023,  0.04372942,  0.0476004 , -0.04092282,\n",
              "         0.02586686, -0.00022492,  0.03271076,  0.10146208,  0.01560808,\n",
              "        -0.01261211,  0.07708725,  0.05353692,  0.02491128,  0.04601132,\n",
              "         0.00161101,  0.01977305,  0.08236523,  0.0093456 , -0.00733394,\n",
              "         0.02228796, -0.01384654, -0.01915407, -0.04188155, -0.0119491 ,\n",
              "         0.02174298,  0.0452851 , -0.03361697,  0.02682406,  0.01164009,\n",
              "         0.02321741,  0.0044462 , -0.0437618 ,  0.06650511, -0.00869332,\n",
              "        -0.01552836,  0.0070115 , -0.01786136, -0.02737509,  0.01674645,\n",
              "         0.00078914,  0.0392549 ,  0.04195289,  0.03052798,  0.00211407,\n",
              "         0.07444353,  0.10230247,  0.00626841,  0.02616513,  0.025804  ,\n",
              "        -0.00757472,  0.03691676, -0.03355383,  0.10289188,  0.02383501,\n",
              "         0.04762008,  0.03524956,  0.02555647,  0.05322717, -0.0123367 ,\n",
              "        -0.10361328, -0.01318957,  0.04799487,  0.05594552, -0.01266124,\n",
              "         0.00333046,  0.09974673, -0.0423773 ,  0.00149919,  0.05668313,\n",
              "         0.0365354 ,  0.06819879,  0.02449391,  0.01745615,  0.07389575,\n",
              "         0.03181593, -0.02082342, -0.01508562, -0.04405319,  0.02108207,\n",
              "        -0.03911941,  0.03687089, -0.02277202, -0.02755229,  0.07002091,\n",
              "        -0.00165742,  0.02394112,  0.01024464,  0.01051453,  0.0267201 ,\n",
              "         0.02753255, -0.01936768, -0.03978661, -0.04519648,  0.01491497,\n",
              "        -0.0291959 ,  0.03597282,  0.06846454, -0.03062746, -0.00272006,\n",
              "         0.00378998,  0.03271133, -0.01993803, -0.0213254 , -0.00822881,\n",
              "         0.01991091, -0.0053871 , -0.02850608, -0.03362293, -0.09719165,\n",
              "        -0.02825481, -0.02397663, -0.03009674, -0.01081583,  0.02214188,\n",
              "         0.09986878,  0.03973264, -0.03458871,  0.00674887,  0.03153133,\n",
              "         0.00978524, -0.05508029, -0.10292852, -0.05325102, -0.02357205,\n",
              "        -0.02474751, -0.01900749, -0.02058221,  0.02006708, -0.02993862,\n",
              "        -0.03730274, -0.09931682, -0.00451217,  0.02711206,  0.04601611,\n",
              "        -0.03132797, -0.05259513,  0.09965297,  0.04764227,  0.04115462,\n",
              "        -0.00430554, -0.09228826,  0.02835475, -0.01622692,  0.00464929,\n",
              "        -0.01328828,  0.04990509, -0.00718826,  0.00416472,  0.0266927 ,\n",
              "        -0.05297934,  0.0534193 ,  0.02817116,  0.0250636 , -0.0462384 ,\n",
              "        -0.04452933, -0.02227123,  0.02692386,  0.08267931, -0.08397222,\n",
              "        -0.01746837, -0.07375606, -0.02330833, -0.04781533,  0.00096378,\n",
              "         0.08390719,  0.00265972, -0.01493199,  0.00126697,  0.01544452,\n",
              "        -0.01726204, -0.06863887,  0.01551905, -0.03802416, -0.10095546,\n",
              "         0.0014839 , -0.02739856, -0.04603772, -0.07332929,  0.10361317,\n",
              "        -0.00982618,  0.10291955,  0.0169789 ,  0.05905043,  0.04540667,\n",
              "         0.02513341,  0.03091617, -0.03086962, -0.00519058,  0.10228039,\n",
              "        -0.03313718, -0.0075873 ,  0.05078025, -0.04842823,  0.03989863,\n",
              "         0.03238273,  0.00507135, -0.04091692, -0.04032817,  0.04115466,\n",
              "         0.05870831,  0.00202457,  0.05841143, -0.02000979,  0.1032492 ,\n",
              "         0.01639725,  0.00520367,  0.00684054, -0.03090969, -0.00049917,\n",
              "        -0.07280745, -0.01980628,  0.02524227, -0.0098223 , -0.0510395 ,\n",
              "         0.01235027, -0.10136118, -0.04164923, -0.07164617,  0.01573709,\n",
              "        -0.0198201 , -0.01087459, -0.06366917, -0.03059996,  0.02884661,\n",
              "        -0.02070369, -0.02451038,  0.06899265,  0.02854754,  0.01827833,\n",
              "        -0.01459516, -0.00240675, -0.06709452,  0.00382336,  0.02026211,\n",
              "        -0.02158378,  0.0522266 ,  0.0151677 ,  0.07119817, -0.031927  ,\n",
              "         0.06657236,  0.00018094, -0.00450201,  0.00804993,  0.02507183,\n",
              "         0.01757045,  0.02867278,  0.05385062,  0.01691447, -0.01139341,\n",
              "         0.02849127, -0.05631706, -0.04866469,  0.09900414,  0.07027571,\n",
              "         0.02246584, -0.03960296,  0.01250244,  0.01467279,  0.05234049,\n",
              "        -0.06138047, -0.01735418,  0.10359088, -0.01086275, -0.04676797,\n",
              "        -0.02149369, -0.02303621,  0.05103793, -0.03903777,  0.02507403,\n",
              "        -0.0324663 ,  0.007836  , -0.00674697, -0.01167229, -0.05326718,\n",
              "        -0.02528012, -0.10312319,  0.01678594,  0.02690635, -0.0380748 ,\n",
              "         0.01250743, -0.02831401,  0.0153353 ,  0.0649787 , -0.05753317,\n",
              "         0.1036109 , -0.01265064]], dtype=float32)>"
            ]
          },
          "metadata": {},
          "execution_count": 4
        }
      ],
      "source": [
        "embed(['This movie was good'])"
      ]
    },
    {
      "cell_type": "code",
      "execution_count": null,
      "id": "57466371-6a20-4f2c-a980-4fa919d03cca",
      "metadata": {
        "colab": {
          "base_uri": "https://localhost:8080/",
          "height": 669
        },
        "id": "57466371-6a20-4f2c-a980-4fa919d03cca",
        "outputId": "9395b669-ebbc-447c-91b1-a1c144ec3a5f"
      },
      "outputs": [
        {
          "output_type": "execute_result",
          "data": {
            "text/plain": [
              "  Unnamed: 0        id original_language               original_title  \\\n",
              "0          0  580489.0                en  Venom: Let There Be Carnage   \n",
              "1          1  524434.0                en                     Eternals   \n",
              "2          2  438631.0                en                         Dune   \n",
              "3          3  796499.0                en              Army of Thieves   \n",
              "4          4  550988.0                en                     Free Guy   \n",
              "\n",
              "   popularity release_date  vote_average  vote_count  \\\n",
              "0    5401.308   2021-09-30           6.8      1736.0   \n",
              "1    3365.535   2021-11-03           7.1       622.0   \n",
              "2    2911.423   2021-09-15           8.0      3632.0   \n",
              "3    2552.437   2021-10-27           6.9       555.0   \n",
              "4    1850.470   2021-08-11           7.8      3493.0   \n",
              "\n",
              "                                               genre  \\\n",
              "0         ['Science Fiction', 'Action', 'Adventure']   \n",
              "1  ['Action', 'Adventure', 'Science Fiction', 'Fa...   \n",
              "2         ['Action', 'Adventure', 'Science Fiction']   \n",
              "3                    ['Action', 'Crime', 'Thriller']   \n",
              "4  ['Comedy', 'Action', 'Adventure', 'Science Fic...   \n",
              "\n",
              "                                            overview      revenue  runtime  \\\n",
              "0  After finding a host body in investigative rep...  424000000.0     97.0   \n",
              "1  The Eternals are a team of ancient aliens who ...  165000000.0    157.0   \n",
              "2  Paul Atreides, a brilliant and gifted young ma...  331116356.0    155.0   \n",
              "3  A mysterious woman recruits bank teller Ludwig...          0.0    127.0   \n",
              "4  A bank teller called Guy realizes he is a back...  331096766.0    115.0   \n",
              "\n",
              "                                          tagline  \n",
              "0                                             NaN  \n",
              "1                             In the beginning...  \n",
              "2                    Beyond fear, destiny awaits.  \n",
              "3    Before Vegas, one locksmith became a legend.  \n",
              "4  Life's too short to be a background character.  "
            ],
            "text/html": [
              "\n",
              "  <div id=\"df-984ff25a-3e8b-4832-b90b-409132f3f3e6\">\n",
              "    <div class=\"colab-df-container\">\n",
              "      <div>\n",
              "<style scoped>\n",
              "    .dataframe tbody tr th:only-of-type {\n",
              "        vertical-align: middle;\n",
              "    }\n",
              "\n",
              "    .dataframe tbody tr th {\n",
              "        vertical-align: top;\n",
              "    }\n",
              "\n",
              "    .dataframe thead th {\n",
              "        text-align: right;\n",
              "    }\n",
              "</style>\n",
              "<table border=\"1\" class=\"dataframe\">\n",
              "  <thead>\n",
              "    <tr style=\"text-align: right;\">\n",
              "      <th></th>\n",
              "      <th>Unnamed: 0</th>\n",
              "      <th>id</th>\n",
              "      <th>original_language</th>\n",
              "      <th>original_title</th>\n",
              "      <th>popularity</th>\n",
              "      <th>release_date</th>\n",
              "      <th>vote_average</th>\n",
              "      <th>vote_count</th>\n",
              "      <th>genre</th>\n",
              "      <th>overview</th>\n",
              "      <th>revenue</th>\n",
              "      <th>runtime</th>\n",
              "      <th>tagline</th>\n",
              "    </tr>\n",
              "  </thead>\n",
              "  <tbody>\n",
              "    <tr>\n",
              "      <th>0</th>\n",
              "      <td>0</td>\n",
              "      <td>580489.0</td>\n",
              "      <td>en</td>\n",
              "      <td>Venom: Let There Be Carnage</td>\n",
              "      <td>5401.308</td>\n",
              "      <td>2021-09-30</td>\n",
              "      <td>6.8</td>\n",
              "      <td>1736.0</td>\n",
              "      <td>['Science Fiction', 'Action', 'Adventure']</td>\n",
              "      <td>After finding a host body in investigative rep...</td>\n",
              "      <td>424000000.0</td>\n",
              "      <td>97.0</td>\n",
              "      <td>NaN</td>\n",
              "    </tr>\n",
              "    <tr>\n",
              "      <th>1</th>\n",
              "      <td>1</td>\n",
              "      <td>524434.0</td>\n",
              "      <td>en</td>\n",
              "      <td>Eternals</td>\n",
              "      <td>3365.535</td>\n",
              "      <td>2021-11-03</td>\n",
              "      <td>7.1</td>\n",
              "      <td>622.0</td>\n",
              "      <td>['Action', 'Adventure', 'Science Fiction', 'Fa...</td>\n",
              "      <td>The Eternals are a team of ancient aliens who ...</td>\n",
              "      <td>165000000.0</td>\n",
              "      <td>157.0</td>\n",
              "      <td>In the beginning...</td>\n",
              "    </tr>\n",
              "    <tr>\n",
              "      <th>2</th>\n",
              "      <td>2</td>\n",
              "      <td>438631.0</td>\n",
              "      <td>en</td>\n",
              "      <td>Dune</td>\n",
              "      <td>2911.423</td>\n",
              "      <td>2021-09-15</td>\n",
              "      <td>8.0</td>\n",
              "      <td>3632.0</td>\n",
              "      <td>['Action', 'Adventure', 'Science Fiction']</td>\n",
              "      <td>Paul Atreides, a brilliant and gifted young ma...</td>\n",
              "      <td>331116356.0</td>\n",
              "      <td>155.0</td>\n",
              "      <td>Beyond fear, destiny awaits.</td>\n",
              "    </tr>\n",
              "    <tr>\n",
              "      <th>3</th>\n",
              "      <td>3</td>\n",
              "      <td>796499.0</td>\n",
              "      <td>en</td>\n",
              "      <td>Army of Thieves</td>\n",
              "      <td>2552.437</td>\n",
              "      <td>2021-10-27</td>\n",
              "      <td>6.9</td>\n",
              "      <td>555.0</td>\n",
              "      <td>['Action', 'Crime', 'Thriller']</td>\n",
              "      <td>A mysterious woman recruits bank teller Ludwig...</td>\n",
              "      <td>0.0</td>\n",
              "      <td>127.0</td>\n",
              "      <td>Before Vegas, one locksmith became a legend.</td>\n",
              "    </tr>\n",
              "    <tr>\n",
              "      <th>4</th>\n",
              "      <td>4</td>\n",
              "      <td>550988.0</td>\n",
              "      <td>en</td>\n",
              "      <td>Free Guy</td>\n",
              "      <td>1850.470</td>\n",
              "      <td>2021-08-11</td>\n",
              "      <td>7.8</td>\n",
              "      <td>3493.0</td>\n",
              "      <td>['Comedy', 'Action', 'Adventure', 'Science Fic...</td>\n",
              "      <td>A bank teller called Guy realizes he is a back...</td>\n",
              "      <td>331096766.0</td>\n",
              "      <td>115.0</td>\n",
              "      <td>Life's too short to be a background character.</td>\n",
              "    </tr>\n",
              "  </tbody>\n",
              "</table>\n",
              "</div>\n",
              "      <button class=\"colab-df-convert\" onclick=\"convertToInteractive('df-984ff25a-3e8b-4832-b90b-409132f3f3e6')\"\n",
              "              title=\"Convert this dataframe to an interactive table.\"\n",
              "              style=\"display:none;\">\n",
              "        \n",
              "  <svg xmlns=\"http://www.w3.org/2000/svg\" height=\"24px\"viewBox=\"0 0 24 24\"\n",
              "       width=\"24px\">\n",
              "    <path d=\"M0 0h24v24H0V0z\" fill=\"none\"/>\n",
              "    <path d=\"M18.56 5.44l.94 2.06.94-2.06 2.06-.94-2.06-.94-.94-2.06-.94 2.06-2.06.94zm-11 1L8.5 8.5l.94-2.06 2.06-.94-2.06-.94L8.5 2.5l-.94 2.06-2.06.94zm10 10l.94 2.06.94-2.06 2.06-.94-2.06-.94-.94-2.06-.94 2.06-2.06.94z\"/><path d=\"M17.41 7.96l-1.37-1.37c-.4-.4-.92-.59-1.43-.59-.52 0-1.04.2-1.43.59L10.3 9.45l-7.72 7.72c-.78.78-.78 2.05 0 2.83L4 21.41c.39.39.9.59 1.41.59.51 0 1.02-.2 1.41-.59l7.78-7.78 2.81-2.81c.8-.78.8-2.07 0-2.86zM5.41 20L4 18.59l7.72-7.72 1.47 1.35L5.41 20z\"/>\n",
              "  </svg>\n",
              "      </button>\n",
              "      \n",
              "  <style>\n",
              "    .colab-df-container {\n",
              "      display:flex;\n",
              "      flex-wrap:wrap;\n",
              "      gap: 12px;\n",
              "    }\n",
              "\n",
              "    .colab-df-convert {\n",
              "      background-color: #E8F0FE;\n",
              "      border: none;\n",
              "      border-radius: 50%;\n",
              "      cursor: pointer;\n",
              "      display: none;\n",
              "      fill: #1967D2;\n",
              "      height: 32px;\n",
              "      padding: 0 0 0 0;\n",
              "      width: 32px;\n",
              "    }\n",
              "\n",
              "    .colab-df-convert:hover {\n",
              "      background-color: #E2EBFA;\n",
              "      box-shadow: 0px 1px 2px rgba(60, 64, 67, 0.3), 0px 1px 3px 1px rgba(60, 64, 67, 0.15);\n",
              "      fill: #174EA6;\n",
              "    }\n",
              "\n",
              "    [theme=dark] .colab-df-convert {\n",
              "      background-color: #3B4455;\n",
              "      fill: #D2E3FC;\n",
              "    }\n",
              "\n",
              "    [theme=dark] .colab-df-convert:hover {\n",
              "      background-color: #434B5C;\n",
              "      box-shadow: 0px 1px 3px 1px rgba(0, 0, 0, 0.15);\n",
              "      filter: drop-shadow(0px 1px 2px rgba(0, 0, 0, 0.3));\n",
              "      fill: #FFFFFF;\n",
              "    }\n",
              "  </style>\n",
              "\n",
              "      <script>\n",
              "        const buttonEl =\n",
              "          document.querySelector('#df-984ff25a-3e8b-4832-b90b-409132f3f3e6 button.colab-df-convert');\n",
              "        buttonEl.style.display =\n",
              "          google.colab.kernel.accessAllowed ? 'block' : 'none';\n",
              "\n",
              "        async function convertToInteractive(key) {\n",
              "          const element = document.querySelector('#df-984ff25a-3e8b-4832-b90b-409132f3f3e6');\n",
              "          const dataTable =\n",
              "            await google.colab.kernel.invokeFunction('convertToInteractive',\n",
              "                                                     [key], {});\n",
              "          if (!dataTable) return;\n",
              "\n",
              "          const docLinkHtml = 'Like what you see? Visit the ' +\n",
              "            '<a target=\"_blank\" href=https://colab.research.google.com/notebooks/data_table.ipynb>data table notebook</a>'\n",
              "            + ' to learn more about interactive tables.';\n",
              "          element.innerHTML = '';\n",
              "          dataTable['output_type'] = 'display_data';\n",
              "          await google.colab.output.renderOutput(dataTable, element);\n",
              "          const docLink = document.createElement('div');\n",
              "          docLink.innerHTML = docLinkHtml;\n",
              "          element.appendChild(docLink);\n",
              "        }\n",
              "      </script>\n",
              "    </div>\n",
              "  </div>\n",
              "  "
            ]
          },
          "metadata": {},
          "execution_count": 5
        }
      ],
      "source": [
        "df = pd.read_csv(\"Top_10000_Movies.csv\", engine=\"python\")\n",
        "df.head()"
      ]
    },
    {
      "cell_type": "code",
      "execution_count": null,
      "id": "896c2b20-d24d-4deb-8db2-7bad1a46958a",
      "metadata": {
        "colab": {
          "base_uri": "https://localhost:8080/",
          "height": 206
        },
        "id": "896c2b20-d24d-4deb-8db2-7bad1a46958a",
        "outputId": "d3c80c83-be70-4a21-cf6a-ca01d9bb9599"
      },
      "outputs": [
        {
          "output_type": "execute_result",
          "data": {
            "text/plain": [
              "                original_title  \\\n",
              "0  Venom: Let There Be Carnage   \n",
              "1                     Eternals   \n",
              "2                         Dune   \n",
              "3              Army of Thieves   \n",
              "4                     Free Guy   \n",
              "\n",
              "                                            overview  \n",
              "0  After finding a host body in investigative rep...  \n",
              "1  The Eternals are a team of ancient aliens who ...  \n",
              "2  Paul Atreides, a brilliant and gifted young ma...  \n",
              "3  A mysterious woman recruits bank teller Ludwig...  \n",
              "4  A bank teller called Guy realizes he is a back...  "
            ],
            "text/html": [
              "\n",
              "  <div id=\"df-3c11b567-41e7-41ce-8437-31701dc17a50\">\n",
              "    <div class=\"colab-df-container\">\n",
              "      <div>\n",
              "<style scoped>\n",
              "    .dataframe tbody tr th:only-of-type {\n",
              "        vertical-align: middle;\n",
              "    }\n",
              "\n",
              "    .dataframe tbody tr th {\n",
              "        vertical-align: top;\n",
              "    }\n",
              "\n",
              "    .dataframe thead th {\n",
              "        text-align: right;\n",
              "    }\n",
              "</style>\n",
              "<table border=\"1\" class=\"dataframe\">\n",
              "  <thead>\n",
              "    <tr style=\"text-align: right;\">\n",
              "      <th></th>\n",
              "      <th>original_title</th>\n",
              "      <th>overview</th>\n",
              "    </tr>\n",
              "  </thead>\n",
              "  <tbody>\n",
              "    <tr>\n",
              "      <th>0</th>\n",
              "      <td>Venom: Let There Be Carnage</td>\n",
              "      <td>After finding a host body in investigative rep...</td>\n",
              "    </tr>\n",
              "    <tr>\n",
              "      <th>1</th>\n",
              "      <td>Eternals</td>\n",
              "      <td>The Eternals are a team of ancient aliens who ...</td>\n",
              "    </tr>\n",
              "    <tr>\n",
              "      <th>2</th>\n",
              "      <td>Dune</td>\n",
              "      <td>Paul Atreides, a brilliant and gifted young ma...</td>\n",
              "    </tr>\n",
              "    <tr>\n",
              "      <th>3</th>\n",
              "      <td>Army of Thieves</td>\n",
              "      <td>A mysterious woman recruits bank teller Ludwig...</td>\n",
              "    </tr>\n",
              "    <tr>\n",
              "      <th>4</th>\n",
              "      <td>Free Guy</td>\n",
              "      <td>A bank teller called Guy realizes he is a back...</td>\n",
              "    </tr>\n",
              "  </tbody>\n",
              "</table>\n",
              "</div>\n",
              "      <button class=\"colab-df-convert\" onclick=\"convertToInteractive('df-3c11b567-41e7-41ce-8437-31701dc17a50')\"\n",
              "              title=\"Convert this dataframe to an interactive table.\"\n",
              "              style=\"display:none;\">\n",
              "        \n",
              "  <svg xmlns=\"http://www.w3.org/2000/svg\" height=\"24px\"viewBox=\"0 0 24 24\"\n",
              "       width=\"24px\">\n",
              "    <path d=\"M0 0h24v24H0V0z\" fill=\"none\"/>\n",
              "    <path d=\"M18.56 5.44l.94 2.06.94-2.06 2.06-.94-2.06-.94-.94-2.06-.94 2.06-2.06.94zm-11 1L8.5 8.5l.94-2.06 2.06-.94-2.06-.94L8.5 2.5l-.94 2.06-2.06.94zm10 10l.94 2.06.94-2.06 2.06-.94-2.06-.94-.94-2.06-.94 2.06-2.06.94z\"/><path d=\"M17.41 7.96l-1.37-1.37c-.4-.4-.92-.59-1.43-.59-.52 0-1.04.2-1.43.59L10.3 9.45l-7.72 7.72c-.78.78-.78 2.05 0 2.83L4 21.41c.39.39.9.59 1.41.59.51 0 1.02-.2 1.41-.59l7.78-7.78 2.81-2.81c.8-.78.8-2.07 0-2.86zM5.41 20L4 18.59l7.72-7.72 1.47 1.35L5.41 20z\"/>\n",
              "  </svg>\n",
              "      </button>\n",
              "      \n",
              "  <style>\n",
              "    .colab-df-container {\n",
              "      display:flex;\n",
              "      flex-wrap:wrap;\n",
              "      gap: 12px;\n",
              "    }\n",
              "\n",
              "    .colab-df-convert {\n",
              "      background-color: #E8F0FE;\n",
              "      border: none;\n",
              "      border-radius: 50%;\n",
              "      cursor: pointer;\n",
              "      display: none;\n",
              "      fill: #1967D2;\n",
              "      height: 32px;\n",
              "      padding: 0 0 0 0;\n",
              "      width: 32px;\n",
              "    }\n",
              "\n",
              "    .colab-df-convert:hover {\n",
              "      background-color: #E2EBFA;\n",
              "      box-shadow: 0px 1px 2px rgba(60, 64, 67, 0.3), 0px 1px 3px 1px rgba(60, 64, 67, 0.15);\n",
              "      fill: #174EA6;\n",
              "    }\n",
              "\n",
              "    [theme=dark] .colab-df-convert {\n",
              "      background-color: #3B4455;\n",
              "      fill: #D2E3FC;\n",
              "    }\n",
              "\n",
              "    [theme=dark] .colab-df-convert:hover {\n",
              "      background-color: #434B5C;\n",
              "      box-shadow: 0px 1px 3px 1px rgba(0, 0, 0, 0.15);\n",
              "      filter: drop-shadow(0px 1px 2px rgba(0, 0, 0, 0.3));\n",
              "      fill: #FFFFFF;\n",
              "    }\n",
              "  </style>\n",
              "\n",
              "      <script>\n",
              "        const buttonEl =\n",
              "          document.querySelector('#df-3c11b567-41e7-41ce-8437-31701dc17a50 button.colab-df-convert');\n",
              "        buttonEl.style.display =\n",
              "          google.colab.kernel.accessAllowed ? 'block' : 'none';\n",
              "\n",
              "        async function convertToInteractive(key) {\n",
              "          const element = document.querySelector('#df-3c11b567-41e7-41ce-8437-31701dc17a50');\n",
              "          const dataTable =\n",
              "            await google.colab.kernel.invokeFunction('convertToInteractive',\n",
              "                                                     [key], {});\n",
              "          if (!dataTable) return;\n",
              "\n",
              "          const docLinkHtml = 'Like what you see? Visit the ' +\n",
              "            '<a target=\"_blank\" href=https://colab.research.google.com/notebooks/data_table.ipynb>data table notebook</a>'\n",
              "            + ' to learn more about interactive tables.';\n",
              "          element.innerHTML = '';\n",
              "          dataTable['output_type'] = 'display_data';\n",
              "          await google.colab.output.renderOutput(dataTable, element);\n",
              "          const docLink = document.createElement('div');\n",
              "          docLink.innerHTML = docLinkHtml;\n",
              "          element.appendChild(docLink);\n",
              "        }\n",
              "      </script>\n",
              "    </div>\n",
              "  </div>\n",
              "  "
            ]
          },
          "metadata": {},
          "execution_count": 6
        }
      ],
      "source": [
        "df = df[[\"original_title\", \"overview\"]]\n",
        "df.head()"
      ]
    },
    {
      "cell_type": "code",
      "execution_count": null,
      "id": "72e0c163-50be-493a-8451-c2f725d4a747",
      "metadata": {
        "id": "72e0c163-50be-493a-8451-c2f725d4a747"
      },
      "outputs": [],
      "source": [
        "df = df.dropna()\n",
        "df = df.reset_index()\n",
        "df = df[:5500]"
      ]
    },
    {
      "cell_type": "code",
      "execution_count": null,
      "id": "cbd84a1b-722c-45dd-96d6-226194770d9f",
      "metadata": {
        "id": "cbd84a1b-722c-45dd-96d6-226194770d9f"
      },
      "outputs": [],
      "source": [
        "titles = list(df['overview'])"
      ]
    },
    {
      "cell_type": "code",
      "execution_count": null,
      "id": "78042f65-8bcf-4427-ab29-a01d55ecc0b5",
      "metadata": {
        "colab": {
          "base_uri": "https://localhost:8080/"
        },
        "id": "78042f65-8bcf-4427-ab29-a01d55ecc0b5",
        "outputId": "96279d84-b90a-4124-cf01-cb24bda83ccf"
      },
      "outputs": [
        {
          "output_type": "execute_result",
          "data": {
            "text/plain": [
              "['After finding a host body in investigative reporter Eddie Brock, the alien symbiote must face a new enemy, Carnage, the alter ego of serial killer Cletus Kasady.',\n",
              " 'The Eternals are a team of ancient aliens who have been living on Earth in secret for thousands of years. When an unexpected tragedy forces them out of the shadows, they are forced to reunite against mankind’s most ancient enemy, the Deviants.',\n",
              " \"Paul Atreides, a brilliant and gifted young man born into a great destiny beyond his understanding, must travel to the most dangerous planet in the universe to ensure the future of his family and his people. As malevolent forces explode into conflict over the planet's exclusive supply of the most precious resource in existence-a commodity capable of unlocking humanity's greatest potential-only those who can conquer their fear will survive.\",\n",
              " 'A mysterious woman recruits bank teller Ludwig Dieter to lead a group of aspiring thieves on a top-secret heist during the early stages of the zombie apocalypse.',\n",
              " 'A bank teller called Guy realizes he is a background character in an open world video game called Free City that will soon go offline.']"
            ]
          },
          "metadata": {},
          "execution_count": 9
        }
      ],
      "source": [
        "titles[:5]"
      ]
    },
    {
      "cell_type": "code",
      "execution_count": null,
      "id": "4b710a2f-e88e-4612-844f-cdee6520fa5f",
      "metadata": {
        "colab": {
          "base_uri": "https://localhost:8080/"
        },
        "id": "4b710a2f-e88e-4612-844f-cdee6520fa5f",
        "outputId": "19fa0e45-372b-4729-bf44-c98cc033b4f0"
      },
      "outputs": [
        {
          "output_type": "stream",
          "name": "stdout",
          "text": [
            "The embedding shape is: (5500, 512)\n"
          ]
        }
      ],
      "source": [
        "embeddings = embed(titles)\n",
        "print('The embedding shape is:', embeddings.shape)"
      ]
    },
    {
      "cell_type": "code",
      "execution_count": null,
      "id": "42d2037d-e848-4256-85b2-f3a39172c85b",
      "metadata": {
        "id": "42d2037d-e848-4256-85b2-f3a39172c85b"
      },
      "outputs": [],
      "source": [
        "pca = PCA(n_components=2)\n",
        "emb_2d = pca.fit_transform(embeddings)"
      ]
    },
    {
      "cell_type": "code",
      "execution_count": null,
      "id": "81f744d5-d93b-4705-ab37-66ff0fb90079",
      "metadata": {
        "colab": {
          "base_uri": "https://localhost:8080/",
          "height": 390
        },
        "id": "81f744d5-d93b-4705-ab37-66ff0fb90079",
        "outputId": "69a16152-afad-4fcf-8e6b-f9dfcb3b84a3"
      },
      "outputs": [
        {
          "output_type": "display_data",
          "data": {
            "text/plain": [
              "<Figure size 792x432 with 1 Axes>"
            ],
            "image/png": "[encoded data removed]"
          },
          "metadata": {
            "needs_background": "light"
          }
        }
      ],
      "source": [
        "plt.figure(figsize=(11, 6))\n",
        "plt.title('Embedding space')\n",
        "plt.scatter(emb_2d[:, 0], emb_2d[:, 1])\n",
        "plt.show()"
      ]
    },
    {
      "cell_type": "code",
      "execution_count": null,
      "id": "052598e7-df0b-4f56-b640-baf97854db2f",
      "metadata": {
        "colab": {
          "base_uri": "https://localhost:8080/"
        },
        "id": "052598e7-df0b-4f56-b640-baf97854db2f",
        "outputId": "dfee425e-9686-4d15-a4d9-ff6935cbf76f"
      },
      "outputs": [
        {
          "output_type": "execute_result",
          "data": {
            "text/plain": [
              "NearestNeighbors()"
            ]
          },
          "metadata": {},
          "execution_count": 13
        }
      ],
      "source": [
        "nn = NearestNeighbors(n_neighbors=5)\n",
        "nn.fit(embeddings)"
      ]
    },
    {
      "cell_type": "code",
      "execution_count": null,
      "id": "fa1ed24a-08af-43ed-8b41-047f93cc2344",
      "metadata": {
        "id": "fa1ed24a-08af-43ed-8b41-047f93cc2344"
      },
      "outputs": [],
      "source": [
        "def recommend(text):\n",
        "    emb = embed([text])\n",
        "    neighbors = nn.kneighbors(emb, return_distance=False)[0]\n",
        "    return df['original_title'].iloc[neighbors].tolist()"
      ]
    },
    {
      "cell_type": "code",
      "execution_count": null,
      "id": "c861268b-c037-4ba6-a598-df67558ef164",
      "metadata": {
        "colab": {
          "base_uri": "https://localhost:8080/"
        },
        "id": "c861268b-c037-4ba6-a598-df67558ef164",
        "outputId": "1c92cb67-9e8b-48ce-81bb-b321348a06e7"
      },
      "outputs": [
        {
          "output_type": "stream",
          "name": "stdout",
          "text": [
            "Recommended Movies:\n"
          ]
        },
        {
          "output_type": "execute_result",
          "data": {
            "text/plain": [
              "['The Artist',\n",
              " 'Assault on Wall Street',\n",
              " 'Tropic Thunder',\n",
              " 'Los 7 pecados capitales',\n",
              " 'Bruce Almighty']"
            ]
          },
          "metadata": {},
          "execution_count": 23
        }
      ],
      "source": [
        "print('Recommended Movies:')\n",
        "recommend(\"Mel gibson\")"
      ]
    },
    {
      "cell_type": "code",
      "execution_count": null,
      "id": "798b3229-6e91-4e49-a467-a583dc59d3ce",
      "metadata": {
        "id": "798b3229-6e91-4e49-a467-a583dc59d3ce",
        "colab": {
          "base_uri": "https://localhost:8080/"
        },
        "outputId": "15b32f80-a65d-4d93-95d0-bbb516d87a4f"
      },
      "outputs": [
        {
          "output_type": "stream",
          "name": "stdout",
          "text": [
            "Recommended Movies:\n"
          ]
        },
        {
          "output_type": "execute_result",
          "data": {
            "text/plain": [
              "['Captain America: Civil War',\n",
              " 'Iron Man & Captain America: Heroes United',\n",
              " 'Thor: Love and Thunder',\n",
              " 'Avengers: Endgame',\n",
              " 'Iron Man & Hulk: Heroes United']"
            ]
          },
          "metadata": {},
          "execution_count": 16
        }
      ],
      "source": [
        "print('Recommended Movies:')\n",
        "recommend(\"avengers\")"
      ]
    },
    {
      "cell_type": "code",
      "source": [
        "print('Recommended Movies:')\n",
        "recommend(\"tony stark\")"
      ],
      "metadata": {
        "colab": {
          "base_uri": "https://localhost:8080/"
        },
        "id": "oiIf5H-gSzVu",
        "outputId": "e57ce4e2-f636-450f-cdae-d69870166874"
      },
      "id": "oiIf5H-gSzVu",
      "execution_count": null,
      "outputs": [
        {
          "output_type": "stream",
          "name": "stdout",
          "text": [
            "Recommended Movies:\n"
          ]
        },
        {
          "output_type": "execute_result",
          "data": {
            "text/plain": [
              "['Iron Man 2',\n",
              " 'Iron Man & Captain America: Heroes United',\n",
              " 'Avengers: Age of Ultron',\n",
              " 'Iron Man',\n",
              " 'Spider-Man: Homecoming']"
            ]
          },
          "metadata": {},
          "execution_count": 17
        }
      ]
    },
    {
      "cell_type": "code",
      "source": [
        "print('Recommended Movies:')\n",
        "recommend(\"pirates\")"
      ],
      "metadata": {
        "colab": {
          "base_uri": "https://localhost:8080/"
        },
        "outputId": "b2665b3a-a60b-400e-fcc3-3871659310d1",
        "id": "CIQKWnDuaiAy"
      },
      "execution_count": null,
      "outputs": [
        {
          "output_type": "stream",
          "name": "stdout",
          "text": [
            "Recommended Movies:\n"
          ]
        },
        {
          "output_type": "execute_result",
          "data": {
            "text/plain": [
              "['Pirates of the Caribbean: The Curse of the Black Pearl',\n",
              " 'ワンピース',\n",
              " 'ワンピース デッドエンドの冒険',\n",
              " 'ワンピース\\u3000フィルム GOLD',\n",
              " 'ワンピース ねじまき島の冒険']"
            ]
          },
          "metadata": {},
          "execution_count": 18
        }
      ],
      "id": "CIQKWnDuaiAy"
    },
    {
      "cell_type": "code",
      "source": [
        "print('Recommended Movies:')\n",
        "recommend(\"dumbledore\")"
      ],
      "metadata": {
        "colab": {
          "base_uri": "https://localhost:8080/"
        },
        "id": "aGf_-DlQS3Ve",
        "outputId": "dd938292-9a0d-4eca-8925-4b83791573ea"
      },
      "id": "aGf_-DlQS3Ve",
      "execution_count": null,
      "outputs": [
        {
          "output_type": "stream",
          "name": "stdout",
          "text": [
            "Recommended Movies:\n"
          ]
        },
        {
          "output_type": "execute_result",
          "data": {
            "text/plain": [
              "['Harry Potter and the Deathly Hallows: Part 1',\n",
              " 'Harry Potter and the Half-Blood Prince',\n",
              " 'Fantastic Beasts: The Crimes of Grindelwald',\n",
              " 'Harry Potter and the Order of the Phoenix',\n",
              " 'Harry Potter and the Deathly Hallows: Part 2']"
            ]
          },
          "metadata": {},
          "execution_count": 19
        }
      ]
    },
    {
      "cell_type": "code",
      "source": [
        "print('Recommended Movies:')\n",
        "recommend(\"christmas\")"
      ],
      "metadata": {
        "colab": {
          "base_uri": "https://localhost:8080/"
        },
        "id": "aBNxkGe5TFJA",
        "outputId": "ccd2f141-8c41-4f10-b441-ef6cc6cc3251"
      },
      "id": "aBNxkGe5TFJA",
      "execution_count": null,
      "outputs": [
        {
          "output_type": "stream",
          "name": "stdout",
          "text": [
            "Recommended Movies:\n"
          ]
        },
        {
          "output_type": "execute_result",
          "data": {
            "text/plain": [
              "['48 Christmas Wishes',\n",
              " 'Navidad S.A.',\n",
              " 'Arthur Christmas',\n",
              " 'Shrek the Halls',\n",
              " 'The Christmas Chronicles']"
            ]
          },
          "metadata": {},
          "execution_count": 20
        }
      ]
    }
  ],
  "metadata": {
    "kernelspec": {
      "display_name": "Python 3 (ipykernel)",
      "language": "python",
      "name": "python3"
    },
    "language_info": {
      "codemirror_mode": {
        "name": "ipython",
        "version": 3
      },
      "file_extension": ".py",
      "mimetype": "text/x-python",
      "name": "python",
      "nbconvert_exporter": "python",
      "pygments_lexer": "ipython3",
      "version": "3.8.4"
    },
    "colab": {
      "provenance": []
    }
  },
  "nbformat": 4,
  "nbformat_minor": 5
}